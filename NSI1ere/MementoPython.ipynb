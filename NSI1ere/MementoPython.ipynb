{
 "cells": [
  {
   "cell_type": "markdown",
   "id": "ed06ce9d",
   "metadata": {},
   "source": [
    "# Memento python\n",
    "Cette fiche vous servira de référence tout au long de l'année pour programmer en python.  \n",
    "*Ceci est un notebook qui alterne des cellules de textes formatées en [markdown](https://fr.wikipedia.org/wiki/Markdown) et du code python*. Le résultat de la commande python est indiquée immédiatement en-dessous."
   ]
  },
  {
   "cell_type": "markdown",
   "id": "c847eaf5",
   "metadata": {},
   "source": [
    "## Quelques règles de base"
   ]
  },
  {
   "cell_type": "markdown",
   "id": "90ad6008",
   "metadata": {},
   "source": [
    "### Mode console & mode programme\n",
    "Au lycée l'environnement de développement (IDE) fourni avec edupython est pyscripter :\n",
    "![pyscripter](https://upload.wikimedia.org/wikipedia/commons/a/ad/Console_PyScripter.png)\n",
    "Sur la partie haute, on peut écrire des programmes qu'on execute avec le bouton \"executer\".\n",
    "Sur la partie basse, dans la console, on peut écrire directement des commandes pour les tester. C'est également là que le moteur python fait les affichages :\n",
    "* des messages d'erreur\n",
    "* des print  \n",
    "En effet, print permet au moteur python d'afficher des informations :"
   ]
  },
  {
   "cell_type": "code",
   "execution_count": 21,
   "id": "d55c7960",
   "metadata": {},
   "outputs": [
    {
     "name": "stdout",
     "output_type": "stream",
     "text": [
      "Ceci est un message\n"
     ]
    }
   ],
   "source": [
    "print('Ceci est un message')"
   ]
  },
  {
   "cell_type": "markdown",
   "id": "f78e2ead",
   "metadata": {},
   "source": [
    "Si l'on souhaite faire afficher des choses de natures différentes, on procède de la sorte :"
   ]
  },
  {
   "cell_type": "code",
   "execution_count": 36,
   "id": "34300f3b",
   "metadata": {},
   "outputs": [
    {
     "name": "stdout",
     "output_type": "stream",
     "text": [
      "le résultat de 1000+100+10+1 est 1111\n"
     ]
    }
   ],
   "source": [
    "print('le résultat de 1000+100+10+1 est',1000+100+10+1)"
   ]
  },
  {
   "cell_type": "markdown",
   "id": "4c49a0ea",
   "metadata": {},
   "source": [
    "### commentaires\n",
    "On écrit un commentaire en utilisant le caractère \\#"
   ]
  },
  {
   "cell_type": "code",
   "execution_count": 1,
   "id": "fe21b1ad",
   "metadata": {},
   "outputs": [],
   "source": [
    "#ceci est un caractère qui ne sera pas interprété par python"
   ]
  },
  {
   "cell_type": "markdown",
   "id": "40b8f015",
   "metadata": {},
   "source": [
    "### indentation\n",
    "L'indentation consiste à ajouter des espaces au ddébut de la ligne. Elle permet de définir un bloc :"
   ]
  },
  {
   "cell_type": "code",
   "execution_count": 20,
   "id": "59c41913",
   "metadata": {},
   "outputs": [
    {
     "name": "stdout",
     "output_type": "stream",
     "text": [
      "Yep\n"
     ]
    }
   ],
   "source": [
    "if True:\n",
    "    print('Yep')\n",
    "else:\n",
    "    print('nope')"
   ]
  },
  {
   "cell_type": "markdown",
   "id": "43a1f6ba",
   "metadata": {},
   "source": [
    "### Instruction sur plusieurs lignes\n",
    "Pour écrire une instruction sur plusieurs lignes, on utilise le caractère \\\\ :"
   ]
  },
  {
   "cell_type": "code",
   "execution_count": 22,
   "id": "6f4ce06d",
   "metadata": {},
   "outputs": [
    {
     "name": "stdout",
     "output_type": "stream",
     "text": [
      "50\n"
     ]
    }
   ],
   "source": [
    "print(10+10+10\\\n",
    "+10+10)"
   ]
  },
  {
   "cell_type": "markdown",
   "id": "a7739cb9",
   "metadata": {},
   "source": [
    "## Types de base\n",
    "### entiers et flottants\n",
    "Les entiers (*int*) sont définis tout simplement :"
   ]
  },
  {
   "cell_type": "code",
   "execution_count": 23,
   "id": "4e0438c5",
   "metadata": {},
   "outputs": [
    {
     "name": "stdout",
     "output_type": "stream",
     "text": [
      "42\n"
     ]
    }
   ],
   "source": [
    "print(42)"
   ]
  },
  {
   "cell_type": "markdown",
   "id": "54437d9f",
   "metadata": {},
   "source": [
    "Pour les nombres décimaux on utilise la syntaxe des *flottants* (*float*) où le point sert à marquer la virgule :"
   ]
  },
  {
   "cell_type": "code",
   "execution_count": 24,
   "id": "a5c2fcdc",
   "metadata": {},
   "outputs": [
    {
     "name": "stdout",
     "output_type": "stream",
     "text": [
      "42.0\n"
     ]
    }
   ],
   "source": [
    "print(42.)"
   ]
  },
  {
   "cell_type": "markdown",
   "id": "34ab31ba",
   "metadata": {},
   "source": [
    "Pour les flottants, la puissance de 10 est indiquée avec e minuscule, comme dans les calculatrices et les feuilles de calculs :"
   ]
  },
  {
   "cell_type": "code",
   "execution_count": 25,
   "id": "20d3662e",
   "metadata": {},
   "outputs": [
    {
     "name": "stdout",
     "output_type": "stream",
     "text": [
      "5.6e-07\n"
     ]
    }
   ],
   "source": [
    "print(5.6e-7)"
   ]
  },
  {
   "cell_type": "markdown",
   "id": "30b946f1",
   "metadata": {},
   "source": [
    "### chaînes de caractères\n",
    "Les chaînes de caractères sont indiquées par les guillemets. On peut utiliser indifféremment les différents types de guillemets :"
   ]
  },
  {
   "cell_type": "code",
   "execution_count": 26,
   "id": "bd2f259b",
   "metadata": {},
   "outputs": [
    {
     "name": "stdout",
     "output_type": "stream",
     "text": [
      "Ceci est une chaîne de caractère\n"
     ]
    }
   ],
   "source": [
    "print(\"Ceci est une chaîne de caractère\")"
   ]
  },
  {
   "cell_type": "code",
   "execution_count": 27,
   "id": "6d4d1999",
   "metadata": {},
   "outputs": [
    {
     "name": "stdout",
     "output_type": "stream",
     "text": [
      "Ceci aussi\n"
     ]
    }
   ],
   "source": [
    "print('Ceci aussi')"
   ]
  },
  {
   "cell_type": "markdown",
   "id": "9df3a112",
   "metadata": {},
   "source": [
    "Par défaut une chaîne de caractère ne doit être écrite que sur une seule ligne. Mais si on souhaite l'écrire sur plusieurs lignes, il faut utiliser les triples guillemets :"
   ]
  },
  {
   "cell_type": "code",
   "execution_count": 28,
   "id": "cd89a51c",
   "metadata": {},
   "outputs": [
    {
     "name": "stdout",
     "output_type": "stream",
     "text": [
      "Ceci est une chaîne de caractère définie sur \n",
      "deux lignes\n"
     ]
    }
   ],
   "source": [
    "print(\"\"\"Ceci est une chaîne de caractère définie sur \n",
    "deux lignes\"\"\")"
   ]
  },
  {
   "cell_type": "markdown",
   "id": "edfd67ab",
   "metadata": {},
   "source": [
    "## Opérations mathématiques\n",
    "### opérations simples\n",
    "Les opérations de base en mathématiques s'écrivent naturellement : +, -, \\*, /  \n",
    "Pour l'exposant on utilise \\*\\* :"
   ]
  },
  {
   "cell_type": "code",
   "execution_count": 29,
   "id": "95af49f5",
   "metadata": {},
   "outputs": [
    {
     "name": "stdout",
     "output_type": "stream",
     "text": [
      "9\n"
     ]
    }
   ],
   "source": [
    "print(3**2)"
   ]
  },
  {
   "cell_type": "markdown",
   "id": "4c500030",
   "metadata": {},
   "source": [
    "### division entière\n",
    "Pour les entiers, **//** renvoie le résultat de la divion entière tandis que **%** renvoie le reste de la division entière"
   ]
  },
  {
   "cell_type": "code",
   "execution_count": 30,
   "id": "546e4919-bf26-48d6-b47b-fc80b1c61af9",
   "metadata": {},
   "outputs": [
    {
     "name": "stdout",
     "output_type": "stream",
     "text": [
      "2\n"
     ]
    }
   ],
   "source": [
    "print(7//3)"
   ]
  },
  {
   "cell_type": "code",
   "execution_count": 31,
   "id": "9db68b04",
   "metadata": {},
   "outputs": [
    {
     "name": "stdout",
     "output_type": "stream",
     "text": [
      "1\n"
     ]
    }
   ],
   "source": [
    "print(7%3)"
   ]
  },
  {
   "cell_type": "markdown",
   "id": "62c4a71b",
   "metadata": {},
   "source": [
    "### opérations avancées\n",
    "Pour \"muscler\" le moteur python, on doit utiliser la bibliothèque math :"
   ]
  },
  {
   "cell_type": "code",
   "execution_count": 13,
   "id": "de5901c8",
   "metadata": {},
   "outputs": [],
   "source": [
    "from math import *"
   ]
  },
  {
   "cell_type": "markdown",
   "id": "a93c5018",
   "metadata": {},
   "source": [
    "Avec cette façon de faire, on peut utiliser toutes les fonctions indiquée par la commande `help('math')` que l'on peut faire dans la console de python. La réponse est en anglais mais elle donne une bonne idée des fonctions utilisables.\n",
    "On trouve par exemple la fonction sqrt qui permet de calculer la racine :"
   ]
  },
  {
   "cell_type": "code",
   "execution_count": 37,
   "id": "1f4c18db",
   "metadata": {},
   "outputs": [
    {
     "name": "stdout",
     "output_type": "stream",
     "text": [
      "sqrt(4) = 2.0\n"
     ]
    }
   ],
   "source": [
    "print('sqrt(4) =',sqrt(4))"
   ]
  },
  {
   "cell_type": "markdown",
   "id": "829bc8e6",
   "metadata": {},
   "source": [
    "ou les fonctions trigonométriques. Attention, l'argument de la fonction doit être en radian. "
   ]
  },
  {
   "cell_type": "code",
   "execution_count": 38,
   "id": "60716075",
   "metadata": {},
   "outputs": [
    {
     "name": "stdout",
     "output_type": "stream",
     "text": [
      "cos(pi/2) = 6.123233995736766e-17\n"
     ]
    }
   ],
   "source": [
    "print('cos(pi/2) =',cos(pi/2))"
   ]
  },
  {
   "cell_type": "markdown",
   "id": "bd313703",
   "metadata": {},
   "source": [
    "Le résultat mathématique de ce calcul est 0 mais lors du calcul, le moteur python fait des approximations et il n'aboutit pas forcément à 0."
   ]
  },
  {
   "cell_type": "markdown",
   "id": "74ef3831",
   "metadata": {},
   "source": [
    "## Opérations sur les chaînes de caractères\n",
    "### opérations courantes\n",
    "Python sait interpréter le + et le \\* pour les chaînes de caractères :"
   ]
  },
  {
   "cell_type": "code",
   "execution_count": 43,
   "id": "2da81bfe",
   "metadata": {},
   "outputs": [
    {
     "name": "stdout",
     "output_type": "stream",
     "text": [
      "Bonjour\n",
      "hahahahaha\n"
     ]
    }
   ],
   "source": [
    "print('Bon'+'jour')\n",
    "print('ha'*5)"
   ]
  },
  {
   "cell_type": "markdown",
   "id": "e7fb6594",
   "metadata": {},
   "source": [
    "`in` permet de vérifier la présence d'une sous-chapine de caractères dans une chaîne de caractère :"
   ]
  },
  {
   "cell_type": "code",
   "execution_count": 44,
   "id": "e1f8d70d",
   "metadata": {},
   "outputs": [
    {
     "data": {
      "text/plain": [
       "True"
      ]
     },
     "execution_count": 44,
     "metadata": {},
     "output_type": "execute_result"
    }
   ],
   "source": [
    "'on' in 'bonjour'"
   ]
  },
  {
   "cell_type": "markdown",
   "id": "8b3c74ac",
   "metadata": {},
   "source": [
    "Comme `in` veut dire *dans* c'est comme écrire : 'on' dans 'bonjour', ce à quoi python répond `true` c'est à dire *VRAI*"
   ]
  },
  {
   "cell_type": "markdown",
   "id": "ca7c3c22",
   "metadata": {},
   "source": [
    "### opérations plus avancées\n",
    "la fonction len permet de donner la taille d'une chaîne de caractères :"
   ]
  },
  {
   "cell_type": "code",
   "execution_count": 47,
   "id": "39a3ee54",
   "metadata": {},
   "outputs": [
    {
     "name": "stdout",
     "output_type": "stream",
     "text": [
      "'toto' a une taille de 4\n"
     ]
    }
   ],
   "source": [
    "print(\"'toto' a une taille de\",len('toto'))"
   ]
  },
  {
   "cell_type": "markdown",
   "id": "9322061c",
   "metadata": {},
   "source": [
    "Une chaîne de caractère possède des méthodes qui s'appliquent de la façon suivante : `"
   ]
  },
  {
   "cell_type": "code",
   "execution_count": null,
   "id": "45639e69",
   "metadata": {},
   "outputs": [],
   "source": [
    "print('CECI EST EN MAJUSCULE'.lower()) # met le texte en minuscule\n",
    "print('ceci est en minuscule'.upper()) # met le texte en majuscule\n",
    "print('valentin'.capitalize()) # met la 1ere lettre en majuscule"
   ]
  },
  {
   "cell_type": "markdown",
   "id": "1717eb44",
   "metadata": {},
   "source": [
    "## Variables\n",
    "Pour stocker des valeurs, on utilise des variables.\n",
    "Le \"=\" a valeur d'affectation :"
   ]
  },
  {
   "cell_type": "code",
   "execution_count": 40,
   "id": "3ae4a5b2-d41f-4bfe-bc8a-5736039dbb04",
   "metadata": {},
   "outputs": [],
   "source": [
    "a = 4"
   ]
  },
  {
   "cell_type": "markdown",
   "id": "9d4d19d6-9c7b-4865-91e0-425a63341ded",
   "metadata": {},
   "source": [
    "Un nom de variable peut être formé de plusieurs caractères (lettres, chiffres et \\_). Selon [les bonnes pratiques](https://www.python.org/dev/peps/pep-0008/) de python, **pas d'accents**, **ni de majuscules** :"
   ]
  },
  {
   "cell_type": "code",
   "execution_count": 17,
   "id": "05a478bf",
   "metadata": {},
   "outputs": [],
   "source": [
    "cube = a *a *a\n",
    "ma_variable = 42\n",
    "cette_annee = 2021"
   ]
  },
  {
   "cell_type": "markdown",
   "id": "282ae8ec",
   "metadata": {},
   "source": []
  }
 ],
 "metadata": {
  "kernelspec": {
   "display_name": "Python 3",
   "language": "python",
   "name": "python3"
  },
  "language_info": {
   "codemirror_mode": {
    "name": "ipython",
    "version": 3
   },
   "file_extension": ".py",
   "mimetype": "text/x-python",
   "name": "python",
   "nbconvert_exporter": "python",
   "pygments_lexer": "ipython3",
   "version": "3.8.8"
  }
 },
 "nbformat": 4,
 "nbformat_minor": 5
}
