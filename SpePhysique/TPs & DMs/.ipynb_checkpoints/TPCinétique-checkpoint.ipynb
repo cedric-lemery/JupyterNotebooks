{
 "cells": [
  {
   "cell_type": "markdown",
   "metadata": {},
   "source": [
    "# TP : Suivi cinétique d'une transformation\n",
    "Les lignes de code de python sont volontairement incomplètes. Elles provoquent donc des erreurs telles quelles. Il faut les compléter pour que ça marche.\n",
    "## Détermination du coefficient de la loi de Beer-Lambert\n",
    "Pour commencer nous devons déterminer le coefficient de la loi de Beer-Lambert.\n",
    "\n",
    "On commence par tracer A en fonction de [I2] pour vérifier que nous obtenons bien une droite."
   ]
  },
  {
   "cell_type": "code",
   "execution_count": null,
   "metadata": {},
   "outputs": [],
   "source": [
    "import numpy as np\n",
    "import matplotlib.pyplot as plt\n",
    "\n",
    "A = [...] # à compléter\n",
    "CI2 = [...] # à compléter\n",
    "plt.plot(CI2,A, '+b')\n",
    "plt.title(\"A en fonction de [I2]\")\n",
    "plt.show()"
   ]
  },
  {
   "cell_type": "markdown",
   "metadata": {},
   "source": [
    "Puis on cherche le coefficient directeur de la droite (voir le tuto sur la régression linéaire) : "
   ]
  },
  {
   "cell_type": "code",
   "execution_count": null,
   "metadata": {},
   "outputs": [],
   "source": [
    "fit = np.polyfit(CI2, A, 1)\n",
    "k=fit[0]"
   ]
  },
  {
   "cell_type": "markdown",
   "metadata": {},
   "source": [
    "## Tracé de la concentration en [I2] en fonction du temps\n",
    "Ayant, k, nous pouvons cette fois-ci entrer les valeur de A obtenues en fonction du temps :"
   ]
  },
  {
   "cell_type": "code",
   "execution_count": null,
   "metadata": {},
   "outputs": [],
   "source": [
    "A = [...] # à compléter\n",
    "t = [...] # à compléter\n",
    "CI2=[] # à garder; ainsi, on déclare CI2 comme un tableau vide\n",
    "for i in range(len(A)):\n",
    "    CI2.append(k*A[i])"
   ]
  },
  {
   "cell_type": "markdown",
   "metadata": {},
   "source": [
    "Nous pouvons alors tracer [I2] en fonction du temps :"
   ]
  },
  {
   "cell_type": "code",
   "execution_count": null,
   "metadata": {},
   "outputs": [],
   "source": [
    "plt.plot(t,CI2,\"g+\")\n",
    "plt.xlabel(\"temps (s)\", fontsize=12)\n",
    "plt.ylabel(\"[I2]\", fontsize=12)\n",
    "plt.title(\"[I2] en fonction du temps\", fontsire=14)\n",
    "plt.show()"
   ]
  },
  {
   "cell_type": "markdown",
   "metadata": {},
   "source": [
    "## Tracé de la vitesse en fonction du temps\n",
    "Ayant [I2] en fonction du temps, on peut maintenant calculer la vitesse d'apparition v (voir la fiche d'aide sur les calculs de dérivées) :"
   ]
  },
  {
   "cell_type": "code",
   "execution_count": null,
   "metadata": {},
   "outputs": [],
   "source": [
    "v=[]\n",
    "for i in range(len(CI2)):\n",
    "    vi=.... # à compléter\n",
    "    v.append(vi)"
   ]
  },
  {
   "cell_type": "markdown",
   "metadata": {},
   "source": [
    "Et on peut tracer v en fonction du temps.\n",
    "Je vous laisse voir comment faire...\n",
    "## Détermination si la cinétique est une cinétique d'ordre 1\n",
    "Pour déterminer si la cinétique est d'ordre 1, il faut vérifier que v est proportionnelle à [I2]. Pour cela,\n",
    "1. on peut tracer v en fonction de [I2]\n",
    "2. puis faire la régression linéaire entre v et [I2] pour calculer le coefficient alpha tel que v=alpha.[I2]\n",
    "3. faire le tracé de v en fonction de [I2] et de alpha.[I2] pour vérifier que ça \"fit\" bien."
   ]
  },
  {
   "cell_type": "code",
   "execution_count": null,
   "metadata": {},
   "outputs": [],
   "source": []
  }
 ],
 "metadata": {
  "kernelspec": {
   "display_name": "Python 3",
   "language": "python",
   "name": "python3"
  },
  "language_info": {
   "codemirror_mode": {
    "name": "ipython",
    "version": 3
   },
   "file_extension": ".py",
   "mimetype": "text/x-python",
   "name": "python",
   "nbconvert_exporter": "python",
   "pygments_lexer": "ipython3",
   "version": "3.8.3"
  }
 },
 "nbformat": 4,
 "nbformat_minor": 4
}
