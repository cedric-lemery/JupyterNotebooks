{
 "cells": [
  {
   "cell_type": "markdown",
   "metadata": {},
   "source": [
    "# Découverte de python pour la spé physique\n",
    "## 1. Stocker et afficher des valeurs\n",
    "Pour stocker des valeurs, on utilise des variables.\n",
    "Le \"=\" a valeur d'affectation :"
   ]
  },
  {
   "cell_type": "code",
   "execution_count": 35,
   "metadata": {},
   "outputs": [],
   "source": [
    "a = 1"
   ]
  },
  {
   "cell_type": "markdown",
   "metadata": {},
   "source": [
    "la ligne ci-dessus affecte la valeur 1 à la variable a. On peut faire afficher la valeur de a à l'aide de :"
   ]
  },
  {
   "cell_type": "code",
   "execution_count": 36,
   "metadata": {},
   "outputs": [
    {
     "name": "stdout",
     "output_type": "stream",
     "text": [
      "1\n"
     ]
    }
   ],
   "source": [
    "print(a)"
   ]
  },
  {
   "cell_type": "markdown",
   "metadata": {},
   "source": [
    "Une variable peut contenir du texte, un entier, un flottant :"
   ]
  },
  {
   "cell_type": "code",
   "execution_count": 37,
   "metadata": {},
   "outputs": [
    {
     "name": "stdout",
     "output_type": "stream",
     "text": [
      "<class 'int'> <class 'str'> <class 'float'>\n"
     ]
    }
   ],
   "source": [
    "b=\"Bonjour\"\n",
    "c=1.\n",
    "print(type(a),type(b), type(c))"
   ]
  },
  {
   "cell_type": "markdown",
   "metadata": {},
   "source": [
    "Avez-vous repérer comment on indique à Python que c est un *flottant* ?\n",
    "\n",
    "En python, on utilise la notation anglaise : la virgule est indiqué par un point \".\"\n",
    "\n",
    "Essayons d’afficherà l’écran *x (voiture) = 50 m* à partir des deux variables position_x et nom_mobile :"
   ]
  },
  {
   "cell_type": "code",
   "execution_count": 38,
   "metadata": {},
   "outputs": [
    {
     "name": "stdout",
     "output_type": "stream",
     "text": [
      "x ( voiture ) = 50 m\n"
     ]
    }
   ],
   "source": [
    "position_x = 50\n",
    "nom_mobile = \"voiture\"\n",
    "print(\"x (\", nom_mobile,  \") =\",  position_x, \"m\")"
   ]
  },
  {
   "cell_type": "markdown",
   "metadata": {},
   "source": [
    "## 2. Faire des calculs avec python\n",
    "Comme le nom «variable» l’indique, ces données peuvent être modifiées grâce à des opérations. Sans cela, les variables perdraient beaucoup de leur intérêt. \n",
    "\n",
    "Sur les nombres, on peut, entre autre, faire addition +, soustraction -, multiplication \\*, division /, puissance \\*\\*. On peut aussi utiliser les parenthèses pour gérer les priorités.\n",
    "\n",
    "Le programme suivant affiche la puissance d’une résistance :"
   ]
  },
  {
   "cell_type": "code",
   "execution_count": 39,
   "metadata": {},
   "outputs": [
    {
     "name": "stdout",
     "output_type": "stream",
     "text": [
      "0.6000000000000001\n"
     ]
    }
   ],
   "source": [
    "Tension=3\n",
    "Intensite=0.2\n",
    "P=Tension*Intensite\n",
    "print (P)"
   ]
  },
  {
   "cell_type": "markdown",
   "metadata": {},
   "source": [
    "*Avez-vous remarquer comme les ordinateurs font des petites erreurs même sur les calculs tout simple ?*\n"
   ]
  },
  {
   "cell_type": "markdown",
   "metadata": {},
   "source": [
    "### Exercice :\n",
    "Affecter à des variables les valeurs d'une vitesse de 12 m/s et d'une masse de 3,5 kg. Calculer puis afficher la valeurs de l'énergie cinétique.\n",
    "\n",
    "Rappel : Ec=1/2.m.v²"
   ]
  },
  {
   "cell_type": "markdown",
   "metadata": {},
   "source": [
    "## 3. Les séries de mesures\n",
    "### 3.1. Définir une série de mesure\n",
    "\n",
    "Pour stocker des séries de mesures, on utilise les listes :"
   ]
  },
  {
   "cell_type": "code",
   "execution_count": 79,
   "metadata": {},
   "outputs": [
    {
     "name": "stdout",
     "output_type": "stream",
     "text": [
      "[0.5, 6.9, 2.4, 5.1, -3]\n"
     ]
    }
   ],
   "source": [
    "X =[0.5,6.9,2.4,5.1,-3]\n",
    "print(X)"
   ]
  },
  {
   "cell_type": "markdown",
   "metadata": {},
   "source": [
    "X est une liste d'éléments qui sont séparés par des virgules.\n",
    "\n",
    "Pour accéder à une valeur, on utilise la notation X[n] où n est l'indice de la valeur. \n",
    "\n",
    "**Attention, en informatique, la 1ère valeur a pour indice 0 !**"
   ]
  },
  {
   "cell_type": "code",
   "execution_count": 80,
   "metadata": {},
   "outputs": [
    {
     "name": "stdout",
     "output_type": "stream",
     "text": [
      "0.5 2.4\n"
     ]
    }
   ],
   "source": [
    "print(X[0], X[2])"
   ]
  },
  {
   "cell_type": "markdown",
   "metadata": {},
   "source": [
    "Pour déterminer la longueur d'une liste on utilise :"
   ]
  },
  {
   "cell_type": "code",
   "execution_count": 81,
   "metadata": {},
   "outputs": [
    {
     "name": "stdout",
     "output_type": "stream",
     "text": [
      "5\n"
     ]
    }
   ],
   "source": [
    "print(len(X))"
   ]
  },
  {
   "cell_type": "markdown",
   "metadata": {},
   "source": [
    "Quelques manipulations qui permettent d'obtenir des sous-parties d'une liste :"
   ]
  },
  {
   "cell_type": "code",
   "execution_count": 85,
   "metadata": {},
   "outputs": [
    {
     "name": "stdout",
     "output_type": "stream",
     "text": [
      "[2.4, 5.1, -3]\n",
      "[0.5, 6.9, 2.4, 5.1]\n",
      "-3\n",
      "[6.9, 2.4, 5.1]\n"
     ]
    }
   ],
   "source": [
    "print(X[2:]) # permet d'obtenir tous les éléments à partir de celui d'indice 2\n",
    "print(X[:4]) # permet d'obtenir tous les éléments jusqu'à l'élément d'indice 4\n",
    "print(X[-1]) # permet d'obtenir le dernier élément\n",
    "print((X[1:-1])) # permet d'obtenir tous les éléments sauf le premier et le dernier"
   ]
  },
  {
   "cell_type": "markdown",
   "metadata": {},
   "source": [
    "#### Exercice\n",
    "\n",
    "Déclarer une liste nomée *v* avec ces différentes valeurs puis afficher la 3ème mesure :\n",
    "\n",
    "|Numéro de la mesure|1|2|3|4|5|6|\n",
    "|-------------------|-|-|-|-|-|-|\n",
    "|v|0|0,4|1,2|2,8|6|12,4|\n",
    "\n",
    "Enfin, afficher un échantillon des mesures (par exemple les mesures au-delà de la 2ème, toutes les mesures, sauf les deux dernières)"
   ]
  },
  {
   "cell_type": "markdown",
   "metadata": {},
   "source": [
    "### 3.3. Ajouter des valeurs à une liste\n",
    "\n",
    "Considérons la liste suivante :"
   ]
  },
  {
   "cell_type": "code",
   "execution_count": 43,
   "metadata": {},
   "outputs": [
    {
     "name": "stdout",
     "output_type": "stream",
     "text": [
      "[0, 5, 10]\n"
     ]
    }
   ],
   "source": [
    "temps = [0,5,10]\n",
    "print(temps)"
   ]
  },
  {
   "cell_type": "markdown",
   "metadata": {},
   "source": [
    "si l'on souhaite affecter 15 à la valeur temps[3] voici ce qui se passe :"
   ]
  },
  {
   "cell_type": "code",
   "execution_count": 44,
   "metadata": {},
   "outputs": [
    {
     "ename": "IndexError",
     "evalue": "list assignment index out of range",
     "output_type": "error",
     "traceback": [
      "\u001b[0;31m---------------------------------------------------------------------------\u001b[0m",
      "\u001b[0;31mIndexError\u001b[0m                                Traceback (most recent call last)",
      "\u001b[0;32m<ipython-input-44-ff0ef447a0f4>\u001b[0m in \u001b[0;36m<module>\u001b[0;34m\u001b[0m\n\u001b[0;32m----> 1\u001b[0;31m \u001b[0mtemps\u001b[0m\u001b[0;34m[\u001b[0m\u001b[0;36m3\u001b[0m\u001b[0;34m]\u001b[0m\u001b[0;34m=\u001b[0m\u001b[0;36m15\u001b[0m\u001b[0;34m\u001b[0m\u001b[0;34m\u001b[0m\u001b[0m\n\u001b[0m",
      "\u001b[0;31mIndexError\u001b[0m: list assignment index out of range"
     ]
    }
   ],
   "source": [
    "temps[3]=15"
   ]
  },
  {
   "cell_type": "markdown",
   "metadata": {},
   "source": [
    "Nous avons un message d'erreur *IndexError: list assignment index out of range* car temps n'a que 3 éléments. On ne peut pas donner une valeur à un 4ème élément qui n'existe pas.\n",
    "\n",
    "Pour ajouter une valeur à une liste on utilise la méthode suivante :"
   ]
  },
  {
   "cell_type": "code",
   "execution_count": 55,
   "metadata": {},
   "outputs": [
    {
     "name": "stdout",
     "output_type": "stream",
     "text": [
      "[0, 5, 10, 15]\n"
     ]
    }
   ],
   "source": [
    "temps.append(15)\n",
    "print(temps)"
   ]
  },
  {
   "cell_type": "markdown",
   "metadata": {},
   "source": [
    "## 4. Se promener dans une liste\n",
    "\n",
    "*for* permet de se promener dans une liste :"
   ]
  },
  {
   "cell_type": "code",
   "execution_count": 56,
   "metadata": {},
   "outputs": [
    {
     "name": "stdout",
     "output_type": "stream",
     "text": [
      "A la vitesse de  4 m/s, l’énergie cinétique vaut 24.0 J\n",
      "A la vitesse de  29 m/s, l’énergie cinétique vaut 1261.5 J\n",
      "A la vitesse de  5.3 m/s, l’énergie cinétique vaut 42.135 J\n",
      "A la vitesse de  12 m/s, l’énergie cinétique vaut 216.0 J\n",
      "A la vitesse de  8 m/s, l’énergie cinétique vaut 96.0 J\n"
     ]
    }
   ],
   "source": [
    "vitesse=[4,29,5.3,12,8]\n",
    "m=3 #masse=3kg\n",
    "for v in vitesse:\n",
    "    Ec=0.5*m*v**2\n",
    "    print(\"A la vitesse de \",v, \"m/s, l’énergie cinétique vaut\",Ec,\"J\")"
   ]
  },
  {
   "cell_type": "markdown",
   "metadata": {},
   "source": [
    "#### Exercice \n",
    "\n",
    "On mesure une liste de masses : [1.2,2,3.5,4,8] (en kg).\n",
    "\n",
    "Afficherla phrase suivante pour chaque masse avec à la place des pointillés les valeurs adéquates: \n",
    "\n",
    "«Si un objet a une masse de .... kg alors son poids est .... N»\n",
    "\n",
    "### Autre utilisation de la for\n",
    "\n",
    "Dans plusieurs situations du programme de Physique Chimie, on ne peut pas utiliser for comme dans cette technique.\n",
    "\n",
    "Prenons l’exemple d’un objet en déplacement à une dimension. On veut calculer les vitesses en ayant une liste d’abscisses x et une liste de temps. On calcule 𝑣[𝑖]=(𝑥[𝑖+1]−𝑥[𝑖])/(𝑡[𝑖+1]−𝑡[𝑖]).\n",
    "\n",
    "Si on applique cette égalité pour le dernier indice i, on obtiendra une erreur car les valeurs x[i+1] et t[i+1] n’existent pas. Pour pallier cette difficulté, il existe plusieurs solutions. Dans le cas où l’on connait le nombre de mesures, on peut utiliser range() qui va permettre de choisir une plage d’indices :"
   ]
  },
  {
   "cell_type": "code",
   "execution_count": 57,
   "metadata": {},
   "outputs": [
    {
     "name": "stdout",
     "output_type": "stream",
     "text": [
      "0\n",
      "1\n",
      "2\n",
      "3\n",
      "4\n"
     ]
    }
   ],
   "source": [
    "for i in range(5) :\n",
    "    print(i)"
   ]
  },
  {
   "cell_type": "markdown",
   "metadata": {},
   "source": [
    "Ce qui, appliqué à notre cas, donne :"
   ]
  },
  {
   "cell_type": "code",
   "execution_count": 58,
   "metadata": {},
   "outputs": [
    {
     "name": "stdout",
     "output_type": "stream",
     "text": [
      "A la position 0.980066577841242 m la vitesse est de -0.1315650099951917 m/s\n",
      "A la position 0.921060994002885 m la vitesse est de -0.2578849382192733 m/s\n",
      "A la position 0.825335614909678 m la vitesse est de -0.37392380775953327 m/s\n",
      "A la position 0.696706709347165 m la vitesse est de -0.47505551506923005 m/s\n"
     ]
    }
   ],
   "source": [
    "X =[2,4,7,11,16,22]   #il y a 6 valeurs\n",
    "delta_t=0.3\n",
    "for i in range(1,len(X)-1): #i vaudra successivement 1,2,3,4\n",
    "    vitesse=(x[i+1]-x[i-1])/(2*delta_t)\n",
    "    print(\"A la position\",x[i], \"m la vitesse est de\",vitesse, \"m/s\")"
   ]
  },
  {
   "cell_type": "markdown",
   "metadata": {},
   "source": [
    "#### Exercice :\n",
    "On connait un ensemble de vitesses et de positions d’un objet qui tombe selon un axe vertical:\n",
    "\n",
    "vitesse_y=[-1,-1.9,-2.9,-3.9,-4.9,-5.8,-6.9]\n",
    "\n",
    "position_y=[8.23,8.09,7.85,7.5,7.06,6.52,5.89]\n",
    "\n",
    "masse = 3 kg\n",
    "\n",
    "Déterminer les différentes valeurs correspondantes de l'énergie cinétique, l’énergie de position et l’énergie mécanique.\n"
   ]
  },
  {
   "cell_type": "markdown",
   "metadata": {},
   "source": [
    "## 5. Muscler le moteur de python\n",
    "### 5.1. Bibliothèque math\n",
    "\n",
    "Nous avons vu jusque là que le moteur de python sait faire pas mal de chose. Mais lorsqu'on veut faire de la physique, donc des mathématiques, il faut \"muscler\" un peu python. Pour cela, on peut importer des bibliothèques :"
   ]
  },
  {
   "cell_type": "code",
   "execution_count": 59,
   "metadata": {},
   "outputs": [],
   "source": [
    "import math"
   ]
  },
  {
   "cell_type": "markdown",
   "metadata": {},
   "source": [
    "Nous pouvons maintenant utiliser des instructions de calculs :"
   ]
  },
  {
   "cell_type": "code",
   "execution_count": 60,
   "metadata": {},
   "outputs": [
    {
     "name": "stdout",
     "output_type": "stream",
     "text": [
      "math.sin(3.14159/2) = 0.9999999999991198\n",
      "math.sin(math.pi/2) = 1.0\n",
      "math.sqrt(9) = 3.0\n"
     ]
    }
   ],
   "source": [
    "a =math.sin(3.14159/2)\n",
    "print('math.sin(3.14159/2) =',a)\n",
    "a=math.sin(math.pi/2)\n",
    "print('math.sin(math.pi/2) =',a)\n",
    "b=math.sqrt(9)\n",
    "print('math.sqrt(9) =',b)"
   ]
  },
  {
   "cell_type": "markdown",
   "metadata": {},
   "source": [
    "### 5.2. Bibliothèque csv\n",
    "\n",
    "Cette bibliothèque permet d'ouvrir des fichiers csv (un format de fichier de données très simple)."
   ]
  },
  {
   "cell_type": "code",
   "execution_count": 61,
   "metadata": {},
   "outputs": [
    {
     "name": "stdout",
     "output_type": "stream",
     "text": [
      "[0.0, 0.2, 0.4, 0.6, 0.8, 1.0, 1.2, 1.4, 1.6, 1.8, 2.0, 2.2, 2.4, 2.6, 2.8, 3.0, 3.2, 3.4, 3.6, 3.8, 4.0, 4.2, 4.4, 4.6, 4.8, 5.0, 5.2, 5.4, 5.6, 5.8, 6.0, 6.19999999999999, 6.39999999999999, 6.59999999999999, 6.79999999999999, 6.99999999999999, 7.19999999999999, 7.39999999999998, 7.59999999999998, 7.79999999999998, 7.99999999999998, 8.19999999999997, 8.39999999999997]\n",
      "[1.0, 0.980066577841242, 0.921060994002885, 0.825335614909678, 0.696706709347165, 0.54030230586814, 0.362357754476673, 0.169967142900241, -0.0291995223012888, -0.227202094693087, -0.416146836547142, -0.588501117255346, -0.737393715541246, -0.856888753368947, -0.942222340668658, -0.989992496600445, -0.998294775794753, -0.966798192579461, -0.896758416334147, -0.790967711914417, -0.653643620863612, -0.490260821340699, -0.307332869978419, -0.112152526935054, 0.0874989834394473, 0.283662185463226, 0.468516671300376, 0.634692875942633, 0.775565878510248, 0.885519516941317, 0.960170286650365, 0.996542097023217, 0.993184918758193, 0.950232591958532, 0.86939749034983, 0.753902254343313, 0.608351314532267, 0.438547327574405, 0.251259842582273, 0.0539554205626702, -0.145500033808591, -0.339154860983811, -0.519288654116663]\n"
     ]
    }
   ],
   "source": [
    "import csv\n",
    "source = open('data_x_t.csv', 'r') #ouvre le fichier data_x_t.csv\n",
    "t, x = [], [] #définit 2 listes vides\n",
    "for row in csv.reader(source,delimiter=','): #parcourt le fichier ligne par ligne et met chaque ligne dans une liste 'row'\n",
    "    t1, x1 = map(float,row) #sépare les valeurs de la liste et les «définit» en tant que flottants\n",
    "    t.append(t1) # ajoute t1 à laliste t\n",
    "    x.append(x1) # ajoute x1 à la liste x\n",
    "print(t)\n",
    "print(x)"
   ]
  },
  {
   "cell_type": "markdown",
   "metadata": {},
   "source": [
    "Tout cela c'est bien joli mais c'est pas très parlant si on ne fait pas de graphiques...\n",
    "\n",
    "### 5.3. Tracer des données\n",
    "\n",
    "Matplotlib est une bibliothèque qui sert à tracer et visualiser des données. En effet, elle permet d’obtenir des graphiques complets et propres avec peu de lignes de code :"
   ]
  },
  {
   "cell_type": "code",
   "execution_count": 62,
   "metadata": {},
   "outputs": [],
   "source": [
    "import matplotlib.pyplot as plt"
   ]
  },
  {
   "cell_type": "markdown",
   "metadata": {},
   "source": [
    "Maintenant, python est capable de tracer des données :"
   ]
  },
  {
   "cell_type": "code",
   "execution_count": 63,
   "metadata": {},
   "outputs": [
    {
     "data": {
      "image/png": "[encoded data removed]",
      "text/plain": [
       "<Figure size 432x288 with 1 Axes>"
      ]
     },
     "metadata": {
      "needs_background": "light"
     },
     "output_type": "display_data"
    }
   ],
   "source": [
    "import matplotlib.pyplot as plt\n",
    "import csv\n",
    "source = open('data_x_t.csv', 'r') #ouvre le fichier data_x_t.csv\n",
    "t, x = [], [] #définit 2 listes vides\n",
    "for row in csv.reader(source,delimiter=','): #parcourt le fichier ligne par ligne et met chaque ligne dans une liste 'row'\n",
    "    t1, x1 = map(float,row) #sépare les valeurs de la liste et les «définit» en tant que flottants\n",
    "    t.append(t1) # ajoute t1 à laliste t\n",
    "    x.append(x1) # ajoute x1 à la liste x\n",
    "plt.axis([0,8.5,-1.1,1.1])\n",
    "plt.plot(t, x, 'r+')\n",
    "plt.show()"
   ]
  },
  {
   "cell_type": "markdown",
   "metadata": {},
   "source": [
    "Le *r* de 'r+' signifie que l’on veut des points rouges (red). D’autres lettres (couleurs) sont disponibles, on peut utiliser par exemple b(lue), g(reen), c(yan), m(agenta), y(ellow), k(black), w(hite). On peut aussi utiliser d'autres formatages pour le tracé. Voir la page de documentation de la [fonction plot](https://matplotlib.org/3.3.2/api/_as_gen/matplotlib.pyplot.plot.html).\n",
    "\n",
    "Pour afficher les axes, on a utilisé plt.axis([xmin, xmax, ymin, ymax])\n",
    "\n",
    "Pour tracer le graphique on a utilisé plt.show()"
   ]
  },
  {
   "cell_type": "markdown",
   "metadata": {},
   "source": [
    "#### Exercice de niveau seconde\n",
    "\n",
    "Grâce aux 3 fonctions précédentes(axis, plot et show), tracer la trajectoire parabolique dont les positions sont :\n",
    "\n",
    "posx=[-50,-40,-30,-20,-10,0, 10,20]\n",
    "\n",
    "posy=[-123,-78,-43,-17,-1,4,0,-13]"
   ]
  },
  {
   "cell_type": "markdown",
   "metadata": {},
   "source": [
    "#### Obtenir des cercles...\n",
    "Lorsqu'on trace un graphique, le rendu par défaut est au format paysage et les dimensions sur x et y ne sont pas les mêmes : les cercles ne sont pas circulaires :"
   ]
  },
  {
   "cell_type": "code",
   "execution_count": 75,
   "metadata": {},
   "outputs": [
    {
     "data": {
      "image/png": "[encoded data removed]",
      "text/plain": [
       "<Figure size 432x288 with 1 Axes>"
      ]
     },
     "metadata": {
      "needs_background": "light"
     },
     "output_type": "display_data"
    }
   ],
   "source": [
    "import matplotlib.pyplot as plt\n",
    "import numpy as np\n",
    "\n",
    "n=100\n",
    "tmax=1\n",
    "t=np.linspace(0,tmax,n)\n",
    "pi=np.pi\n",
    "w=2*pi/tmax\n",
    "R=1\n",
    "x=R*np.cos(w*t)\n",
    "y=R*np.sin(w*t)\n",
    "plt.plot(x,y)\n",
    "plt.show()"
   ]
  },
  {
   "cell_type": "markdown",
   "metadata": {},
   "source": [
    "Pour corriger cela il faut rajouter la ligne suivante avant le tracé :"
   ]
  },
  {
   "cell_type": "code",
   "execution_count": 77,
   "metadata": {},
   "outputs": [
    {
     "data": {
      "image/png": "[encoded data removed]",
      "text/plain": [
       "<Figure size 432x288 with 1 Axes>"
      ]
     },
     "metadata": {
      "needs_background": "light"
     },
     "output_type": "display_data"
    }
   ],
   "source": [
    "plt.plot(x,y)\n",
    "plt.gca().set_aspect('equal', adjustable='box')\n",
    "plt.show()"
   ]
  },
  {
   "cell_type": "markdown",
   "metadata": {},
   "source": []
  },
  {
   "cell_type": "markdown",
   "metadata": {},
   "source": [
    "### 5.4. Tracer des vecteurs\n",
    "\n",
    "#### Tracer un vecteur\n",
    "\n",
    "Si l'on veut tracer un seul vecteur, par exemple le vecteur vitesse sur l'une des données posx & posy précédentes, il faut initialiser les valeurs puis calculer les valeurs des coordonnées du vecteur vitesse."
   ]
  },
  {
   "cell_type": "code",
   "execution_count": 64,
   "metadata": {
    "scrolled": true
   },
   "outputs": [],
   "source": [
    "import matplotlib.pyplot as plt\n",
    "import math\n",
    "\n",
    "posx=[-50,-40,-30,-20,-10,0, 10,20]\n",
    "posy=[-123,-78,-43,-17,-1,4,0,-13]\n",
    "vx2=(posx[3]-posx[1])/(2*delta_t)\n",
    "vy2=(posy[3]-posy[1])/(2*delta_t)"
   ]
  },
  {
   "cell_type": "markdown",
   "metadata": {},
   "source": [
    "Pour tracer le vecteur vitesse au point d'indice i=2 (notez que cet indice correspond au point 3) :"
   ]
  },
  {
   "cell_type": "code",
   "execution_count": 71,
   "metadata": {},
   "outputs": [
    {
     "data": {
      "image/png": "[encoded data removed]",
      "text/plain": [
       "<Figure size 432x288 with 1 Axes>"
      ]
     },
     "metadata": {
      "needs_background": "light"
     },
     "output_type": "display_data"
    }
   ],
   "source": [
    "plt.plot(posx,posy,'b+')\n",
    "plt.quiver(posx[2],posy[2],vx2,vy2, color='green',angles='xy', units='xy', scale=5)\n",
    "plt.title('Trajectoire & vecteur vitesse à la 3ème position')\n",
    "plt.show()"
   ]
  },
  {
   "cell_type": "markdown",
   "metadata": {},
   "source": [
    "la fonction *plt.quiver(posx[2],posy[2],v_x[2],v_y[2], color='green',angles='xy', units='xy', scale=2)* permet de générer le vecteur : \n",
    "* en posx[2] & posy[2] on affecte les valeurs v_x[2] & v_y[2].\n",
    "* Pour *scale*, plus la valeur est grande, plus le vecteur est petit. \n",
    "* les valeurs d'*angles* & *units* sont à conserver tel quelles.\n",
    "\n",
    "Si l'on veut avoir la valeur de la vitesse en ce point, il faut calculer la norme du vecteur vitesse en ce point :"
   ]
  },
  {
   "cell_type": "code",
   "execution_count": 66,
   "metadata": {},
   "outputs": [
    {
     "name": "stdout",
     "output_type": "stream",
     "text": [
      "la vitesse au point 3 est égale : 13.124404748406688 m/s\n"
     ]
    }
   ],
   "source": [
    "v2=math.sqrt(vxi**2+vyi**2)\n",
    "print(\"la vitesse au point 3 est égale :\", v2, \"m/s\")"
   ]
  },
  {
   "cell_type": "markdown",
   "metadata": {},
   "source": [
    "#### Tracé un champ de vecteurs\n",
    "(plus compliqué à l'extrême limite du programme de lycée)\n",
    "\n",
    "Pour tracer tous les vecteurs, on utilise la fonctionnalité de tracé de champ de vecteurs :"
   ]
  },
  {
   "cell_type": "code",
   "execution_count": 67,
   "metadata": {},
   "outputs": [
    {
     "data": {
      "image/png": "[encoded data removed]",
      "text/plain": [
       "<Figure size 432x288 with 1 Axes>"
      ]
     },
     "metadata": {
      "needs_background": "light"
     },
     "output_type": "display_data"
    }
   ],
   "source": [
    "import matplotlib.pyplot as plt\n",
    "\n",
    "posx=[-50,-40,-30,-20,-10,0, 10,20]\n",
    "posy=[-123,-78,-43,-17,-1,4,0,-13]\n",
    "v_x, v_y, v = [], [], []\n",
    "delta_t=1\n",
    "for i in range(1,len(posx)-1): #on part de 1 et on va jusqu'à l'avant dernière position\n",
    "    vxi=(posx[i+1]-posx[i-1])/(2*delta_t)\n",
    "    vyi=(posy[i+1]-posy[i-1])/(2*delta_t)\n",
    "    v_x.append(vxi)\n",
    "    v_y.append(vyi)\n",
    "    v.append((vxi**2+vyi**2)**0.5)\n",
    "vec_v=plt.quiver(posx[1:-1],posy[1:-1],v_x,v_y, color='green',angles='xy', units='xy', scale=2)\n",
    "plt.plot(posx,posy,'b+')\n",
    "plt.quiverkey(vec_v, X=0.1, Y=1.1, U=1,label='v : 1 m/s', labelpos='E')\n",
    "plt.title('Vecteur vitesse')\n",
    "plt.show()"
   ]
  },
  {
   "cell_type": "markdown",
   "metadata": {},
   "source": [
    "*plt.quiver(posx[1:-1],posy[1:-1],v_x,v_y, color='green',angles='xy', units='xy', scale=2)* permet de générer le champ de vecteur : \n",
    "* à chaque position posx & pos_y on affecte les valeurs v_x & v_y\n",
    "* avec *plt.quiverkey(vec_v, X=0.1, Y=1.1, U=1,label='v : 1 m/s', labelpos='E')* on fait le tracé de tous les vecteurs.\n",
    "\n",
    "posx[1:-1] permet de ne conserver que les valeurs d'indice 1 à n-1 car les vitesses ne sont pas définies aux bords :"
   ]
  },
  {
   "cell_type": "code",
   "execution_count": 68,
   "metadata": {},
   "outputs": [
    {
     "name": "stdout",
     "output_type": "stream",
     "text": [
      "[-50, -40, -30, -20, -10, 0, 10, 20]\n",
      "len(posx) = 8\n",
      "[10.0, 10.0, 10.0, 10.0, 10.0, 10.0]\n",
      "len(v_x) = 6\n"
     ]
    }
   ],
   "source": [
    "print(posx)\n",
    "print('len(posx) =',len(posx))\n",
    "print(v_x)\n",
    "print('len(v_x) =', len(v_x))"
   ]
  },
  {
   "cell_type": "markdown",
   "metadata": {},
   "source": [
    "*plt.quiverkey(vec_v, X=0.1, Y=1.1, U=10,label='v : 1 m/s', labelpos='E')* permet de faire le tracé. "
   ]
  },
  {
   "cell_type": "markdown",
   "metadata": {},
   "source": [
    "#### Exercice\n",
    "\n",
    "Sur un même graphique, tracer la trajectoire, les vecteurs vitesse et les vecteurs accélération.\n",
    "\n",
    "Attention, de la même façon que la vitesse n'est pas définie au bord, l'accélération au final n'aura que 4 valeurs.\n",
    "\n"
   ]
  }
 ],
 "metadata": {
  "kernelspec": {
   "display_name": "Python 3",
   "language": "python",
   "name": "python3"
  },
  "language_info": {
   "codemirror_mode": {
    "name": "ipython",
    "version": 3
   },
   "file_extension": ".py",
   "mimetype": "text/x-python",
   "name": "python",
   "nbconvert_exporter": "python",
   "pygments_lexer": "ipython3",
   "version": "3.7.6"
  }
 },
 "nbformat": 4,
 "nbformat_minor": 4
}
