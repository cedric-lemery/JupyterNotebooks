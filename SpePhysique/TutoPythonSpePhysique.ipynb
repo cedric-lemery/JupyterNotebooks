{
 "cells": [
  {
   "cell_type": "markdown",
   "metadata": {},
   "source": [
    "# Découverte de python pour la spé physique\n",
    "## Stocker et afficher des valeurs\n",
    "Pour stocker des valeurs, on utilise des variables.\n",
    "Le \"=\" a valeur d'affectation :"
   ]
  },
  {
   "cell_type": "code",
   "execution_count": 2,
   "metadata": {},
   "outputs": [],
   "source": [
    "a = 1"
   ]
  },
  {
   "cell_type": "markdown",
   "metadata": {},
   "source": [
    "la ligne ci-dessus affecte la valeur 1 à la variable a. On peut faire afficher la valeur de a à l'aide de :"
   ]
  },
  {
   "cell_type": "code",
   "execution_count": 3,
   "metadata": {},
   "outputs": [
    {
     "name": "stdout",
     "output_type": "stream",
     "text": [
      "1\n"
     ]
    }
   ],
   "source": [
    "print(a)"
   ]
  },
  {
   "cell_type": "markdown",
   "metadata": {},
   "source": [
    "Une variable peut contenir du texte, un entier, un flottant :"
   ]
  },
  {
   "cell_type": "code",
   "execution_count": 4,
   "metadata": {},
   "outputs": [
    {
     "name": "stdout",
     "output_type": "stream",
     "text": [
      "<class 'int'> <class 'str'> <class 'float'>\n"
     ]
    }
   ],
   "source": [
    "b=\"Bonjour\"\n",
    "c=1.\n",
    "print(type(a),type(b), type(c))"
   ]
  },
  {
   "cell_type": "markdown",
   "metadata": {},
   "source": [
    "Avez-vous repérer comment on indique à Python que c est un *flottant* ?\n",
    "Essayons d’afficherà l’écran *x (voiture) = 50 m* à partir des deux variables position_x et nom_mobile :"
   ]
  },
  {
   "cell_type": "code",
   "execution_count": 6,
   "metadata": {},
   "outputs": [
    {
     "name": "stdout",
     "output_type": "stream",
     "text": [
      "x ( voiture ) = 50 m\n"
     ]
    }
   ],
   "source": [
    "position_x = 50\n",
    "nom_mobile = \"voiture\"\n",
    "print(\"x (\", nom_mobile,  \") =\",  position_x, \"m\")"
   ]
  },
  {
   "cell_type": "markdown",
   "metadata": {},
   "source": [
    "## Faire des calculs avec python\n",
    "Comme le nom «variable» l’indique, ces données peuvent être modifiées grâce à des opérations. Sans cela, les variables perdraient beaucoup de leur intérêt. Sur les nombres, on peut,entre autre,faire addition +, soustraction -, multiplication \\*, division /, puissance \\*\\*. On peut aussi utiliser les parenthèses pour gérer les priorités.Le programme suivant affiche la puissance d’une résistance."
   ]
  },
  {
   "cell_type": "code",
   "execution_count": 5,
   "metadata": {},
   "outputs": [
    {
     "name": "stdout",
     "output_type": "stream",
     "text": [
      "0.6000000000000001\n"
     ]
    }
   ],
   "source": [
    "Tension=3\n",
    "Intensite=0.2\n",
    "P=Tension*Intensite\n",
    "print (P)"
   ]
  },
  {
   "cell_type": "markdown",
   "metadata": {},
   "source": [
    "*Avez-vous remarquer comme les ordinateurs font des petites erreurs même sur les calculs tout simple ?*\n"
   ]
  }
 ],
 "metadata": {
  "kernelspec": {
   "display_name": "Python 3",
   "language": "python",
   "name": "python3"
  },
  "language_info": {
   "codemirror_mode": {
    "name": "ipython",
    "version": 3
   },
   "file_extension": ".py",
   "mimetype": "text/x-python",
   "name": "python",
   "nbconvert_exporter": "python",
   "pygments_lexer": "ipython3",
   "version": "3.7.6"
  }
 },
 "nbformat": 4,
 "nbformat_minor": 4
}
